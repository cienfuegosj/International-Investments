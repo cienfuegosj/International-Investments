{
 "cells": [
  {
   "cell_type": "markdown",
   "metadata": {},
   "source": [
    "<table>\n",
    "  <tr>\n",
    "    <th>Year</th>\n",
    "    <th>Interest (%)</th>\n",
    "    <th>Total Return per 100 DM (%)</th>\n",
    "    <th>Total Return post-Tax per 100DM (%)</th>\n",
    "  </tr>\n",
    "  <tr>\n",
    "    <td>1</td>\n",
    "    <td>7.5</td>\n",
    "    <td>7.5</td>\n",
    "    <td>-</td>\n",
    "  </tr>\n",
    "  <tr>\n",
    "    <td>2</td>\n",
    "    <td>8.5</td>\n",
    "    <td>16.64</td>\n",
    "    <td>-</td>\n",
    "  </tr>\n",
    "  <tr>\n",
    "    <td>3</td>\n",
    "    <td>8.5</td>\n",
    "    <td>26.55</td>\n",
    "    <td>-</td>\n",
    "  </tr>\n",
    "  <tr>\n",
    "    <td>4</td>\n",
    "    <td>8.75</td>\n",
    "    <td>37.62</td>\n",
    "    <td>-</td>\n",
    "  </tr>\n",
    "  <tr>\n",
    "    <td>5</td>\n",
    "    <td>9</td>\n",
    "    <td>50.01</td>\n",
    "    <td>35.01</td>\n",
    "  </tr>\n",
    "  <tr>\n",
    "    <td>6</td>\n",
    "    <td>9</td>\n",
    "    <td>63.51</td>\n",
    "    <td>44.46</td>\n",
    "  </tr>\n",
    "  <tr>\n",
    "    <td>7</td>\n",
    "    <td>9</td>\n",
    "    <td>78.23</td>\n",
    "    <td>54.76</td>\n",
    "  </tr>\n",
    "</table>\n",
    "\n",
    "We want to make sure that Charles gets the most out of his investments with this new tax reform put in place, so we want to maximize the net interest amount. Let $x_1$ be the amount in DM to be sold for year 5, $x_2$ be the amount in DM to be sold for year 6, and $x_3$ the amount in DM to be sold for year 7. If we assumed no tax for the moment, we would construct the following linear program:\n",
    "\n",
    "$$z = 0.5001x_1 + 0.6351x_2 + 0.7823x_3$$\n",
    "$$x_1 + x_2 + x_3 = 30000$$\n",
    "$$x_1, x_2, x_3 \\geq 0$$\n",
    "\n",
    "Since this linear program does not take into account the tax reform, let's assume $x_1$ is composed of two components, the amount in DM to be sold for year 5 that will not incur any taxes on the interest and the amount in DM to be sold for year 5 that <b>will</b> incur a tax cost on the interest. Let this be define similarly for $x_2, x_3$. Let's call the two components just mentioned $x_{i,1}, x_{i,2}$. This means that $x_i = x_{i,1} + x_{i,2}$. One concern is the objective function. So the untaxed amount of B-Bonds sold i.e $x_{i,1}$ will be able to get an interest return of their respective values on the table. On the other hand, the amount of B-Bonds sold i.e $x_{i,j}$ will only be $(1-T)\\times I_{i} \\times x_{i,2}$ where $T$ stands for the tax rate of the interest and $I_{i}$ stands for the interest percent for selling. Therefore our linear program will be,\n",
    "\n",
    "$$z = 0.5001x_{1,1} + 0.7x_{1,2}) + 0.6351(x_{2,1} + 0.7x_{2,2}) + 0.7823(x_{3,1} + 0.7x_{3,2})$$\n",
    "$$\\therefore z = 0.5001x_{1,1} + 0.3501x_{1,2} + 0.6351x_{2,1} + 0.4446x_{2,2} + 0.7823x_{3,1} + 0.5476x_{3,2}$$\n",
    "$$0.5001x_{1,1} \\leq 6100$$\n",
    "$$0.6351x_{2,1} \\leq 6100$$\n",
    "$$0.7823x_{3,1} \\leq 6100$$\n",
    "$$x_{1,1} + x_{1,2} + x_{2,1} + x_{2,2} + x_{3,1} + x_{3,2} = 30000$$\n",
    "$$x_{i,j} \\geq 0 ; i,j \\in \\{1,2,3\\}$$\n",
    "\n",
    "Since we want to maximize $z$, we can minimize $(-z)$. \n",
    "\n",
    "$$(-z) = -0.5001x_{1,1} - 0.3501x_{1,2} - 0.6351x_{2,1} - 0.4446x_{2,2} - 0.7823x_{3,1} - 0.5476x_{3,2}$$\n"
   ]
  },
  {
   "cell_type": "code",
   "execution_count": 16,
   "metadata": {
    "collapsed": false
   },
   "outputs": [
    {
     "name": "stdout",
     "output_type": "stream",
     "text": [
      "Optimal Value:  19098.4968069\n",
      "Amount in Marks of B-Bonds sold on year 5 that will be untaxed:  0.0\n",
      "Amount in Marks of B-Bonds sold on year 5 that will be taxed:  0.0\n",
      "Amount in Marks of B-Bonds sold on year 6 that will be untaxed:  9604.78664777\n",
      "Amount in Marks of B-Bonds sold on year 6 that will be taxed:  0.0\n",
      "Amount in Marks of B-Bonds sold on year 7 that will be untaxed:  7797.52013294\n",
      "Amount in Marks of B-Bonds sold on year 7 that will be taxed:  12597.6932193\n"
     ]
    }
   ],
   "source": [
    "import numpy as np\n",
    "from scipy.optimize import linprog\n",
    "from numpy.linalg import solve\n",
    "\n",
    "A_eq = np.array([[1,1,1,1,1,1]])\n",
    "b_eq = np.array([30000])\n",
    "\n",
    "A_ub = np.array([\n",
    "    [0.5001, 0, 0, 0, 0, 0],\n",
    "    [0, 0, 0.6351, 0, 0, 0],\n",
    "    [0, 0, 0, 0, 0.7823, 0]\n",
    "])\n",
    "\n",
    "b_ub = np.array([6100,6100,6100])\n",
    "c = np.array([-0.5001,-0.3501,-0.6351,-0.4446,-0.7823,-0.5476])\n",
    "\n",
    "res = linprog(c, A_eq=A_eq, b_eq=b_eq, A_ub=A_ub, b_ub=b_ub,bounds=(0, None))\n",
    "print('Optimal Value: ', -1*res.fun)\n",
    "print('Amount in Marks of B-Bonds sold on year 5 that will be untaxed: ', (res.x)[0])\n",
    "print('Amount in Marks of B-Bonds sold on year 5 that will be taxed: ', (res.x)[1])\n",
    "print('Amount in Marks of B-Bonds sold on year 6 that will be untaxed: ', (res.x)[2])\n",
    "print('Amount in Marks of B-Bonds sold on year 6 that will be taxed: ', (res.x)[3])\n",
    "print('Amount in Marks of B-Bonds sold on year 7 that will be untaxed: ', (res.x)[4])\n",
    "print('Amount in Marks of B-Bonds sold on year 7 that will be taxed: ', (res.x)[5])"
   ]
  },
  {
   "cell_type": "markdown",
   "metadata": {},
   "source": [
    "(b) asks \"what is fundammentally wrong with the advice Charles got from the investment adviser at the bank?\". What is wrong is that the adviser is only taking into consideration the tax rate for that specific year (7th year), but we have to take into account all of the interest for every given year. We aren't just paying 30% on the interest rate for the last year, but we are paying 30% on the interest gained from every year.\n",
    "\n",
    "(c) Since Certificate of Deposits can be bought for any amount and they also have a maturity date with a given interest rate, Charles could use the interest he has accumulated for each year to buy these CDs and sell them the next year. I'm assuming that he will be selling his CDs on the same date he sells his B-Bonds. Let $y_1$ be the amount of CDs bought in year 5 and will be redeemed in year 6. Let $y_2$ be the amount of CDs bought in year 6 and will be redeemed in year 7. Since Charles needs the money for school immediately, he will not be interested in buying CDs on year 7, so we have only an additional of $y_1, y_2$ to worry about. If the CDs bought in year 5 that will be redeemed on year 6 makes an interest of less than or equal to 6100, then it would be untaxed and build a total interest of $0.04 \\times y_1$. Let this apply to $y_2$. If the CDs bought in year 5 that will be redeemed on year 6 makes an interest of more than 6100, then it would be taxed at 30% and only get an interest of $0.028$. Let this apply to $y_2$ as well. Since the amount of CDs bought for both years consists of amount that will be taxed and untaxed, we will break up each one of them into two components: amount of CDs that when sold will be taxed and the other is the amount of CDs that when sold will not be taxed.\n",
    "\n",
    "$$y_1 = y_{1,1} + y_{1,2}$$\n",
    "$$y_2 = y_{2,1} + y_{2,2}$$\n",
    "\n",
    "\n",
    "Intuitively, we want to only buy CDs with the money that we make from interest in the B-Bonds so we have to have a way to constrain this; the amount bought on the fifth year that will sold in sixth year is less than or equal to the amount in interest <b>and the amount</b> made on the fifth year.\n",
    "\n",
    "$$y_{1,1} + y_{1,2} \\leq 1.5001x_{1,1} + 1.3501x_{1,2}$$\n",
    "$$y_{2,1} + y_{2,2} \\leq 1.6351x_{2,1} + 1.4446x_{2,2} + 1.04y_{1,1} + 1.028y_{1,2}$$\n",
    "$$y_1, y_2 \\geq 0$$\n",
    "\n",
    "This is an extension of problem (a) because we also have to make sure that we make maximum interest using the B-Bonds to get maximum interest using CDs.\n",
    "\n",
    "https://www.investopedia.com/terms/c/certificateofdeposit.asp"
   ]
  },
  {
   "cell_type": "markdown",
   "metadata": {},
   "source": [
    "$$z = 0.5001x_{1,1} + 0.3501x_{1,2} + 0.6351x_{2,1} + 0.4446x_{2,2} + 0.7823x_{3,1} + 0.5476x_{3,2} + 0.04y_{1,1} + 0.028y_{1,2} + 0.04y_{2,1} + 0.028y_{2,2}$$\n",
    "$$0.5001x_{1,1} \\leq 6100$$\n",
    "$$0.6351x_{2,1} \\leq 6100$$\n",
    "$$0.7823x_{3,1} \\leq 6100$$\n",
    "$$0.04y_{1,1} \\leq 6100$$\n",
    "$$0.04y_{2,1} \\leq 6100$$\n",
    "$$y_{1,1} + y_{1,2} \\leq 0.5001x_{1,1} + 0.3501x_{1,2}$$\n",
    "$$y_{2,1} + y_{2,2} \\leq 0.6351x_{2,1} + 0.4446x_{2,2} + 1.5001x_{1,1} + 1.3501x_{1,2} + 0.04y_{1,1} + 0.028y_{1,2}$$\n",
    "$$x_{1,1} + x_{1,2} + x_{2,1} + x_{2,2} + x_{3,1} + x_{3,2} = 30000$$\n",
    "$$x_{i,j} \\geq 0 ; i,j \\in \\{1,2,3\\}$$\n",
    "$$y_{k,m} \\geq 0; k,m \\in {1,2}$$\n",
    "\n"
   ]
  },
  {
   "cell_type": "code",
   "execution_count": 1,
   "metadata": {
    "collapsed": false,
    "scrolled": true
   },
   "outputs": [
    {
     "name": "stdout",
     "output_type": "stream",
     "text": [
      "Optimal Value:  20640.3850854\n",
      "Amount in Marks of B-Bonds sold on year 5 whose interest will be untaxed:  12197.5604879\n",
      "Amount in Marks of B-Bonds sold on year 5 whose interest will be taxed:  0.0\n",
      "Amount in Marks of B-Bonds sold on year 6 whose interest will be untaxed:  9604.78664777\n",
      "Amount in Marks of B-Bonds sold on year 6 whose interest will be taxed:  0.0\n",
      "Amount in Marks of B-Bonds sold on year 7 whose interest will be untaxed:  7797.52013294\n",
      "Amount in Marks of B-Bonds sold on year 7 whose interest will be taxed:  400.132731384\n",
      "Amount in Marks of CDs bought on year 5 whose interest be untaxed 18297.5604879\n",
      "Amount in Marks of CDs bought on year 5 whose interest will be taxed 0.0\n",
      "Amount in Marks of CDs bought on year 6 whose interest will be untaxed 34734.2495552\n",
      "Amount in Marks of CDs bought on year 6 whose interest will be taxed 0.0\n"
     ]
    }
   ],
   "source": [
    "import numpy as np\n",
    "from scipy.optimize import linprog\n",
    "from numpy.linalg import solve\n",
    "\n",
    "A_eq = np.array([[1, 1, 1, 1, 1, 1, 0, 0, 0, 0]])\n",
    "b_eq = np.array([30000])\n",
    "\n",
    "A_ub = np.array([\n",
    "    [0.5001, 0, 0, 0, 0, 0, 0, 0, 0, 0],\n",
    "    [0, 0, 0.6351, 0, 0, 0, 0, 0, 0, 0],\n",
    "    [0, 0, 0, 0, 0.7823, 0, 0, 0, 0, 0],\n",
    "    [0, 0, 0, 0, 0, 0, 0.04, 0, 0, 0],\n",
    "    [0, 0, 0, 0, 0, 0, 0, 0, 0.04, 0],\n",
    "    [-1.5001,-1.3501, 0, 0, 0, 0, 1, 1, 0, 0],\n",
    "    [-1.5001, -1.3501, -1.6351, -1.4446, 0, 0, -0.04, -0.028, 1, 1]\n",
    "])\n",
    "\n",
    "b_ub = np.array([6100,6100,6100, 6100, 6100, 0, 0])\n",
    "c = np.array([-0.5001,-0.3501,-0.6351,-0.4446,-0.7823,-0.5476, -0.04,-0.028, -0.04, -0.028])\n",
    "\n",
    "res = linprog(c, A_eq=A_eq, b_eq=b_eq, A_ub=A_ub, b_ub=b_ub,bounds=(0, None))\n",
    "print('Optimal Value: ', -1*res.fun)\n",
    "print('Amount in Marks of B-Bonds sold on year 5 whose interest will be untaxed: ', (res.x)[0])\n",
    "print('Amount in Marks of B-Bonds sold on year 5 whose interest will be taxed: ', (res.x)[1])\n",
    "print('Amount in Marks of B-Bonds sold on year 6 whose interest will be untaxed: ', (res.x)[2])\n",
    "print('Amount in Marks of B-Bonds sold on year 6 whose interest will be taxed: ', (res.x)[3])\n",
    "print('Amount in Marks of B-Bonds sold on year 7 whose interest will be untaxed: ', (res.x)[4])\n",
    "print('Amount in Marks of B-Bonds sold on year 7 whose interest will be taxed: ', (res.x)[5])\n",
    "print('Amount in Marks of CDs bought on year 5 whose interest be untaxed', (res.x)[6])\n",
    "print('Amount in Marks of CDs bought on year 5 whose interest will be taxed', (res.x)[7])\n",
    "print('Amount in Marks of CDs bought on year 6 whose interest will be untaxed', (res.x)[8])\n",
    "print('Amount in Marks of CDs bought on year 6 whose interest will be taxed', (res.x)[9])"
   ]
  },
  {
   "cell_type": "markdown",
   "metadata": {},
   "source": [
    "(d) What would his optimal investment strategy for the fifth, sixth, and seventh years have been if he had originally invested DM 50,000."
   ]
  },
  {
   "cell_type": "code",
   "execution_count": 2,
   "metadata": {
    "collapsed": false
   },
   "outputs": [
    {
     "name": "stdout",
     "output_type": "stream",
     "text": [
      "Optimal Value:  30050.4968069\n",
      "Amount in Marks of B-Bonds sold on year 5 that will be untaxed:  0.0\n",
      "Amount in Marks of B-Bonds sold on year 5 that will be taxed:  0.0\n",
      "Amount in Marks of B-Bonds sold on year 6 that will be untaxed:  9604.78664777\n",
      "Amount in Marks of B-Bonds sold on year 6 that will be taxed:  0.0\n",
      "Amount in Marks of B-Bonds sold on year 7 that will be untaxed:  7797.52013294\n",
      "Amount in Marks of B-Bonds sold on year 7 that will be taxed:  32597.6932193\n"
     ]
    }
   ],
   "source": [
    "import numpy as np\n",
    "from scipy.optimize import linprog\n",
    "from numpy.linalg import solve\n",
    "\n",
    "A_eq = np.array([[1,1,1,1,1,1]])\n",
    "b_eq = np.array([50000])\n",
    "\n",
    "A_ub = np.array([\n",
    "    [0.5001, 0, 0, 0, 0, 0],\n",
    "    [0, 0, 0.6351, 0, 0, 0],\n",
    "    [0, 0, 0, 0, 0.7823, 0]\n",
    "])\n",
    "\n",
    "b_ub = np.array([6100,6100,6100])\n",
    "c = np.array([-0.5001,-0.3501,-0.6351,-0.4446,-0.7823,-0.5476])\n",
    "\n",
    "res = linprog(c, A_eq=A_eq, b_eq=b_eq, A_ub=A_ub, b_ub=b_ub,bounds=(0, None))\n",
    "print('Optimal Value: ', -1*res.fun)\n",
    "print('Amount in Marks of B-Bonds sold on year 5 that will be untaxed: ', (res.x)[0])\n",
    "print('Amount in Marks of B-Bonds sold on year 5 that will be taxed: ', (res.x)[1])\n",
    "print('Amount in Marks of B-Bonds sold on year 6 that will be untaxed: ', (res.x)[2])\n",
    "print('Amount in Marks of B-Bonds sold on year 6 that will be taxed: ', (res.x)[3])\n",
    "print('Amount in Marks of B-Bonds sold on year 7 that will be untaxed: ', (res.x)[4])\n",
    "print('Amount in Marks of B-Bonds sold on year 7 that will be taxed: ', (res.x)[5])"
   ]
  },
  {
   "cell_type": "markdown",
   "metadata": {},
   "source": [
    "(e) How much money could Charles save on his DM 30,000 investment by getting married this year (the fifth year of the investment)?"
   ]
  },
  {
   "cell_type": "code",
   "execution_count": 4,
   "metadata": {
    "collapsed": false
   },
   "outputs": [
    {
     "name": "stdout",
     "output_type": "stream",
     "text": [
      "Optimal Value:  21348.5899271\n",
      "Amount in Marks of B-Bonds sold on year 5 that will be untaxed:  0.0\n",
      "Amount in Marks of B-Bonds sold on year 5 that will be taxed:  0.0\n",
      "Amount in Marks of B-Bonds sold on year 6 that will be untaxed:  14404.9597341\n",
      "Amount in Marks of B-Bonds sold on year 6 that will be taxed:  0.0\n",
      "Amount in Marks of B-Bonds sold on year 7 that will be untaxed:  15595.0402659\n",
      "Amount in Marks of B-Bonds sold on year 7 that will be taxed:  0.0\n",
      "Charles can save DM 2250.093120237929\n"
     ]
    }
   ],
   "source": [
    "import numpy as np\n",
    "from scipy.optimize import linprog\n",
    "from numpy.linalg import solve\n",
    "\n",
    "A_eq = np.array([[1,1,1,1,1,1]])\n",
    "b_eq = np.array([30000])\n",
    "\n",
    "A_ub = np.array([\n",
    "    [0.5001, 0, 0, 0, 0, 0],\n",
    "    [0, 0, 0.6351, 0, 0, 0],\n",
    "    [0, 0, 0, 0, 0.7823, 0]\n",
    "])\n",
    "\n",
    "b_ub = np.array([12200,12200,12200])\n",
    "c = np.array([-0.5001,-0.3501,-0.6351,-0.4446,-0.7823,-0.5476])\n",
    "\n",
    "res = linprog(c, A_eq=A_eq, b_eq=b_eq, A_ub=A_ub, b_ub=b_ub,bounds=(0, None))\n",
    "print('Optimal Value: ', -1*res.fun)\n",
    "print('Amount in Marks of B-Bonds sold on year 5 that will be untaxed: ', (res.x)[0])\n",
    "print('Amount in Marks of B-Bonds sold on year 5 that will be taxed: ', (res.x)[1])\n",
    "print('Amount in Marks of B-Bonds sold on year 6 that will be untaxed: ', (res.x)[2])\n",
    "print('Amount in Marks of B-Bonds sold on year 6 that will be taxed: ', (res.x)[3])\n",
    "print('Amount in Marks of B-Bonds sold on year 7 that will be untaxed: ', (res.x)[4])\n",
    "print('Amount in Marks of B-Bonds sold on year 7 that will be taxed: ', (res.x)[5])\n",
    "\n",
    "print(\"Charles can save DM {0}\".format(-1*res.fun - 19098.4968069))"
   ]
  },
  {
   "cell_type": "markdown",
   "metadata": {},
   "source": [
    "(f) How much money should he plan to convert into dollars by selling B-Bonds for this investment?\n",
    "\n",
    "Since Charles is exchanging at the beginning of the sixth year, which has the smae exchange rate as the fifth year's, we would convert DM to USD at the 1.5DM/USD rate for the USD he bought for his American investment.\n",
    "$Z=\\frac{1 USD}{1.5 DM}*(0.5001x_{1,1}+0.3501x_{1,2}+0.6351x_{2,1}+0.4446x_{2,2}+0.7823x_{3,1}+0.5476x_{3,2}+0.04y_{1,1}+0.04y_{2,1}+0.028y_{2,2}+0.036w) $\n",
    "$w+y_{1,1}+y_{1,2}\\le1.5001x_{1,1}+1.3501x_{1,2}$\n"
   ]
  }
 ],
 "metadata": {
  "anaconda-cloud": {},
  "kernelspec": {
   "display_name": "Python [default]",
   "language": "python",
   "name": "python3"
  },
  "language_info": {
   "codemirror_mode": {
    "name": "ipython",
    "version": 3
   },
   "file_extension": ".py",
   "mimetype": "text/x-python",
   "name": "python",
   "nbconvert_exporter": "python",
   "pygments_lexer": "ipython3",
   "version": "3.5.2"
  }
 },
 "nbformat": 4,
 "nbformat_minor": 2
}
